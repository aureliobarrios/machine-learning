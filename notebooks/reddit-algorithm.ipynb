{
 "cells": [
  {
   "cell_type": "markdown",
   "metadata": {},
   "source": [
    "## Comment Algorithm Explained\n",
    "\n",
    "Notebook working through an example of how Reddit sorts their comments. \n",
    "\n",
    "### Confidence Sort Using Wilson's Score Interval - For Comment Ranking\n",
    "\n",
    "**Goal:** Rank the best comments highest regardless of their submission time (time was originally used in the main Reddit page algorithm which is different than the comment sorting found here) \n",
    "\n",
    "The confidence sort treats the vote count as a statistical sampling of a hypothetical full vote by everyone. You can think about this way: \n",
    "- \"Given the ratings that I currently have, there is a 80% chance (based on your chosen confidence score) that the 'real' fraction of positive ratings is **at least** what?\n",
    "\n",
    "The algorithm then uses the **lower bound** of the Wilson score to find this fraction, using the formula below. \n",
    "\n",
    "![Wilson Formula](../notebooks/images/wilson-formula.png)\n",
    "\n",
    "Essentially the confidence sort is giving the comment a provisional ranking that it is 80% (based on your confidence score) sure that it will get to. If a comment has 1 upvote and zero downvotes, although it has a 100% upvote rate since there is not much data the algorithm will keep it near the bottom. But if it has 10 upvotes and 1 downvote then the system will have enough confidence to place it above something with 40 upvotes and 20 downvotes - with the logic being that by the time this comment has gotten 40 upvotes it will have less than 20 downvotes. The algorithm also has the capability to offset when it is wrong (20% of the time according to our confidence score) since it will push the comment with less data to the top allowing for the chance to collect more data. \n",
    "\n",
    "\n",
    "Essentially the Wilson Score uses statistics to try and predict the \"true\" expected ratio of upvotes to total votes based on the current sample (current number of upvotes and downvotes)."
   ]
  },
  {
   "cell_type": "code",
   "execution_count": 1,
   "metadata": {},
   "outputs": [],
   "source": [
    "from math import sqrt\n",
    "import pandas as pd\n",
    "from scipy.stats import norm\n",
    "import numpy as np\n",
    "import seaborn as sns\n",
    "import matplotlib.pyplot as plt\n",
    "\n",
    "def confidence(ups, downs, confidence_score=0.80):\n",
    "    #measure the total number of ratings\n",
    "    n = ups + downs\n",
    "    #what to do when there are no ratings\n",
    "    if n == 0:\n",
    "        return 0\n",
    "    # finding the (1- confidence / 2) quantile of the standard normal distribution\n",
    "    z = norm.ppf(1 - ((1 - confidence_score) / 2))\n",
    "    #find the observed fraction of positive ratings\n",
    "    p = ups / n\n",
    "    #use Wilsons score interval to find the lower bound, essentially trying to answer\n",
    "    # Given the ratings I have, there is a 80% chance (based on confidence score) that the\n",
    "    # \"real\" fraction of positive ratings is at least what?\n",
    "    #     we want the lower bound therefore only calculating that portion of formula\n",
    "    #Calculate the left side of formula\n",
    "    left_side = p + 1/(2*n)*z*z\n",
    "    #Calculate the right side of formula\n",
    "    right_side = z*sqrt(p*(1-p)/n + z*z/(4*n*n))\n",
    "    #Calculate the bottom side of formula\n",
    "    under = 1+1/n*z*z\n",
    "    #return lower bound of score\n",
    "    return (left_side - right_side) / under"
   ]
  },
  {
   "cell_type": "markdown",
   "metadata": {},
   "source": [
    "Consider a scenario where we have a post with 20 upvotes and 5 downvotes. \n",
    "\n",
    "We can see that we get a Wilson score of 0.68. This means that we are predicting that the lowest possible proportion of upvotes to total votes with an 80% degree of confidence is 0.68."
   ]
  },
  {
   "cell_type": "code",
   "execution_count": null,
   "metadata": {},
   "outputs": [],
   "source": [
    "#get score for scenario\n",
    "score = confidence(14, 2, confidence_score=0.8)\n",
    "score"
   ]
  },
  {
   "cell_type": "markdown",
   "metadata": {},
   "source": [
    "Consider that this same post eventually gets 50 total votes.\n",
    "\n",
    "Then according to the Wilson score the predicted lowest possible amount of downvotes, with an 80% degree of confidence, that this post could have gotten would be around 15.97 downvotes."
   ]
  },
  {
   "cell_type": "code",
   "execution_count": null,
   "metadata": {},
   "outputs": [],
   "source": [
    "#lets say that eventually this scenario gets 50 votes\n",
    "total_votes = 50\n",
    "#now calculate the predicted lowest number of downvotes\n",
    "downvotes = total_votes - (total_votes * score)\n",
    "downvotes"
   ]
  },
  {
   "cell_type": "markdown",
   "metadata": {},
   "source": [
    "#### How many resources could we expect to get validated?\n",
    "\n",
    "Set initial requirements to test"
   ]
  },
  {
   "cell_type": "code",
   "execution_count": null,
   "metadata": {},
   "outputs": [],
   "source": [
    "#minimal number of votes needed\n",
    "num_votes = 20\n",
    "##set threshold percentage of upvotes/total votes\n",
    "threshold = 0.70"
   ]
  },
  {
   "cell_type": "code",
   "execution_count": null,
   "metadata": {},
   "outputs": [],
   "source": [
    "#keep track of scores\n",
    "scores_eighty, scores_ninety = [], []\n",
    "#go through possible combinations of upvotes to downvotes\n",
    "for upvotes in range(num_votes + 1):\n",
    "    #get number of downvotes\n",
    "    downvotes = num_votes - upvotes\n",
    "    #get the score for current scenario with 80% confidence\n",
    "    scores_eighty.append(confidence(upvotes, downvotes, 0.80))\n",
    "    #get the score for current scenario with 90% confidence\n",
    "    scores_ninety.append(confidence(upvotes, downvotes, 0.90))"
   ]
  },
  {
   "cell_type": "code",
   "execution_count": null,
   "metadata": {},
   "outputs": [],
   "source": [
    "#build figure image\n",
    "fig = plt.subplots(figsize=(10, 5))\n",
    "#plot 80% confidence scores\n",
    "ax = sns.lineplot(x=range(num_votes+1), y=scores_eighty, label='80% Confidence', linestyle='dotted', marker='*', markersize=15)\n",
    "#plot 90% confidence scores\n",
    "sns.lineplot(x=range(num_votes+1), y=scores_ninety, label='90% Confidence', linestyle='dotted', marker='*', markersize=15)\n",
    "#set the x and y ticks for the plot\n",
    "ax.set_xticks(range(num_votes+1))\n",
    "ax.set_yticks(np.linspace(0, 1, 11))\n",
    "#set title and labels\n",
    "ax.set(title='Wilson Score For Number of Upvotes Out Of 20', xlabel='Number of Upvotes', ylabel='Wilson Score')\n",
    "#plot horizontal line at proportion 0.7\n",
    "ax.axhline(threshold, ls='--', color='red')\n",
    "#show the legend\n",
    "ax.legend()\n",
    "#show the plot\n",
    "plt.show()"
   ]
  },
  {
   "cell_type": "code",
   "execution_count": null,
   "metadata": {},
   "outputs": [],
   "source": [
    "#function that simulates vote scenarios meeting validation threshold\n",
    "def count_validated(vote_scenarios):\n",
    "    #percentage validated scenarios \n",
    "    percent_eighty, percent_ninety = [], []\n",
    "    #loop through different scenarios\n",
    "    for scenario in vote_scenarios:\n",
    "        #keep track of validated resources\n",
    "        validated_eighty, validated_ninety = 0, 0\n",
    "        #go through all possible combinations of upvotes to downvotes\n",
    "        for upvotes in range(scenario + 1):\n",
    "            #get the number of downvotes\n",
    "            downvotes = scenario - upvotes\n",
    "            #get the current 80% confidence score\n",
    "            curr_score_eighty = confidence(upvotes, downvotes, 0.80)\n",
    "            #get the current 90% confidence score\n",
    "            curr_score_ninety = confidence(upvotes, downvotes, 0.90)\n",
    "            #check to see if we passed the threshold\n",
    "            if curr_score_eighty >= threshold:\n",
    "                #increment number of validated resources\n",
    "                validated_eighty += 1\n",
    "            if curr_score_ninety >= threshold:\n",
    "                #increment number of validated resources\n",
    "                validated_ninety += 1\n",
    "        #append percentage of validated scenarios\n",
    "        percent_eighty.append(round(validated_eighty / scenario, 2))\n",
    "        percent_ninety.append(round(validated_ninety / scenario, 2))\n",
    "    return percent_eighty, percent_ninety\n",
    "\n",
    "#different scenarios of number of needed votes\n",
    "vote_scenarios = list(range(20, 55, 5))\n",
    "#get the percentage of resources that were valiated\n",
    "percent_eighty, percent_ninety = count_validated(vote_scenarios)"
   ]
  },
  {
   "cell_type": "code",
   "execution_count": null,
   "metadata": {},
   "outputs": [],
   "source": [
    "#make a dataframe\n",
    "df = pd.DataFrame({\n",
    "    \"total_votes\": vote_scenarios,\n",
    "    \"80%\": percent_eighty,\n",
    "    \"90%\": percent_ninety\n",
    "})\n",
    "\n",
    "#convert dataframe to long format\n",
    "dfm = pd.melt(df, id_vars=\"total_votes\", var_name=\"confidence\", value_name=\"%_validated\")\n",
    "#plot the results\n",
    "g = sns.catplot(x='total_votes', y='%_validated', hue='confidence', data=dfm, kind='bar')\n",
    "#set title\n",
    "g.set(title=f\"% Scenarios Meeting {threshold} Validation Threshold\")"
   ]
  },
  {
   "cell_type": "code",
   "execution_count": null,
   "metadata": {},
   "outputs": [],
   "source": [
    "#different scenarios of number of needed votes\n",
    "vote_scenarios = list(range(55, 90, 5))\n",
    "#get the percentage of resources that were valiated\n",
    "percent_eighty, percent_ninety = count_validated(vote_scenarios)\n",
    "\n",
    "#make a dataframe\n",
    "df = pd.DataFrame({\n",
    "    \"total_votes\": vote_scenarios,\n",
    "    \"80%\": percent_eighty,\n",
    "    \"90%\": percent_ninety\n",
    "})\n",
    "\n",
    "#convert dataframe to long format\n",
    "dfm = pd.melt(df, id_vars=\"total_votes\", var_name=\"confidence\", value_name=\"%_validated\")\n",
    "#plot the results\n",
    "g = sns.catplot(x='total_votes', y='%_validated', hue='confidence', data=dfm, kind='bar')\n",
    "#set title\n",
    "g.set(title=f\"% Scenarios Meeting {threshold} Validation Threshold\")"
   ]
  },
  {
   "cell_type": "markdown",
   "metadata": {},
   "source": [
    "Inherent \"minimum number of votes\" requirement built in through the formula. As we can see below even if we have a scenario where a post has 5 upvotes / 0 downvotes, the wilson score doesn't pass the validation threshold because it it does not have enough information to recommend a higher score."
   ]
  },
  {
   "cell_type": "code",
   "execution_count": null,
   "metadata": {},
   "outputs": [],
   "source": [
    "print(f\"Score for 5 upvotes to 0 downvotes at 90% confidence: {round(confidence(5, 0, 0.9), 3)}\")"
   ]
  },
  {
   "cell_type": "code",
   "execution_count": null,
   "metadata": {},
   "outputs": [],
   "source": [
    "#different scenarios of number of needed votes\n",
    "vote_scenarios = list(range(1, 11, 1))\n",
    "#get the percentage of resources that were valiated\n",
    "percent_eighty, percent_ninety = count_validated(vote_scenarios)\n",
    "\n",
    "#make a dataframe\n",
    "df = pd.DataFrame({\n",
    "    \"total_votes\": vote_scenarios,\n",
    "    \"80%\": percent_eighty,\n",
    "    \"90%\": percent_ninety\n",
    "})\n",
    "\n",
    "#convert dataframe to long format\n",
    "dfm = pd.melt(df, id_vars=\"total_votes\", var_name=\"confidence\", value_name=\"%_validated\")\n",
    "#plot the results\n",
    "g = sns.catplot(x='total_votes', y='%_validated', hue='confidence', data=dfm, kind='bar')\n",
    "#set title\n",
    "g.set(title=f\"% Scenarios Meeting {threshold} Validation Threshold\")"
   ]
  },
  {
   "cell_type": "markdown",
   "metadata": {},
   "source": [
    "### Distribution of Scores"
   ]
  },
  {
   "cell_type": "code",
   "execution_count": null,
   "metadata": {},
   "outputs": [],
   "source": [
    "#build data dictionary\n",
    "data_dic = {}\n",
    "\n",
    "#keep track of the row index\n",
    "row_index = 0\n",
    "#loop through scenarios for total votes\n",
    "for total_votes in range(1, 31):\n",
    "    for upvotes in range(1, total_votes + 1):\n",
    "        #get the current upvotes and downvotes\n",
    "        downvotes = total_votes - upvotes\n",
    "        #get the confidence score for different scenarios at different confidence levels\n",
    "        eighty_conf = confidence(upvotes, downvotes, confidence_score=0.8)\n",
    "        ninety_conf = confidence(upvotes, downvotes, confidence_score=0.9)\n",
    "        #build the current row\n",
    "        data_dic[row_index] = [total_votes, upvotes, downvotes, eighty_conf, ninety_conf]\n",
    "        #increment the index\n",
    "        row_index += 1\n",
    "\n",
    "#build dataframe from data\n",
    "df = pd.DataFrame.from_dict(data_dic, orient='index', \n",
    "        columns=[\"total_votes\", \"upvotes\", \"downvotes\", \"80%_score\", \"90%_score\"])"
   ]
  },
  {
   "cell_type": "code",
   "execution_count": null,
   "metadata": {},
   "outputs": [],
   "source": [
    "sns.scatterplot(data=df, x=\"total_votes\", y=\"80%_score\")"
   ]
  },
  {
   "cell_type": "code",
   "execution_count": null,
   "metadata": {},
   "outputs": [],
   "source": [
    "sns.scatterplot(data=df, x=\"total_votes\", y=\"90%_score\")"
   ]
  },
  {
   "cell_type": "markdown",
   "metadata": {},
   "source": [
    "### Set Requirements / Wishlist\n",
    "\n",
    "- threshold: (0 - 1) the minimum accepted ratio of upvotes / total votes we would accept to be considered validated\n",
    "- confidence: (0 - 1) the certainty percentage or how confident we can say that the resource will achieve this threshold\n",
    "- next votes: the next x amount of scenarios to consider"
   ]
  },
  {
   "cell_type": "code",
   "execution_count": 14,
   "metadata": {},
   "outputs": [],
   "source": [
    "#minimum accepted ratio of upvotes to total votes\n",
    "threshold = 0.70\n",
    "#how confident we aim to be\n",
    "curr_confidence = 0.90\n",
    "#the next x amount of voting scenarios to consider\n",
    "next_votes = 20\n",
    "#minimum accepted probability that the resources will stay validated\n",
    "probability = 0.70"
   ]
  },
  {
   "cell_type": "code",
   "execution_count": 15,
   "metadata": {},
   "outputs": [],
   "source": [
    "#keep track of data\n",
    "data_dic = {}\n",
    "\n",
    "#minimum number total votes needed to pass probability threshold\n",
    "min_votes = None\n",
    "#initial scenarios to consider\n",
    "for total_votes in range(8, 100):\n",
    "    #keep track of outcomes\n",
    "    passed = 0\n",
    "    #keep track of added trials\n",
    "    trials = 0\n",
    "    #now consider the next x amount of votes\n",
    "    for added_votes in range(1, next_votes + 1):\n",
    "        for curr_upvotes in range(added_votes + 1):\n",
    "            #increment trials\n",
    "            trials += 1\n",
    "            if confidence(total_votes + curr_upvotes, added_votes - curr_upvotes, confidence_score=curr_confidence) >= threshold:\n",
    "                # print(f\"Original: {total_votes}\")\n",
    "                # print(f\"Upvotes: {total_votes + curr_upvotes}, Downvotes: {added_votes - curr_upvotes}\")\n",
    "                passed += 1\n",
    "    #calculate the current probability\n",
    "    curr_probability = passed / trials\n",
    "    #keep track minimum total votes need to pass probability threshold\n",
    "    if curr_probability >= probability and min_votes is None:\n",
    "        #update min votes to keep track of first instance where we pass probability threshold\n",
    "        min_votes = total_votes\n",
    "    #save the current probability\n",
    "    data_dic[total_votes] = curr_probability"
   ]
  },
  {
   "cell_type": "code",
   "execution_count": 16,
   "metadata": {},
   "outputs": [
    {
     "data": {
      "image/png": "[encoded data removed]",
      "text/plain": [
       "<Figure size 1000x500 with 1 Axes>"
      ]
     },
     "metadata": {},
     "output_type": "display_data"
    }
   ],
   "source": [
    "#build figure image\n",
    "fig = plt.subplots(figsize=(10, 5))\n",
    "#build a scatter plot for probability to remain validated\n",
    "ax = sns.scatterplot(x=list(data_dic.keys()), y=list(data_dic.values()))\n",
    "#set the x and y ticks for the plot\n",
    "ax.set_xticks(np.linspace(5, 100, 20))\n",
    "ax.set_yticks(np.linspace(0, 1, 11))\n",
    "#set title and labels\n",
    "ax.set(title=f'Probability of Resources Validated To Remain Validated Over Next {next_votes} Votes',\n",
    "       xlabel='Starting Votes', \n",
    "       ylabel='Probability To Remain Validated')\n",
    "#plot horizontal line\n",
    "ax.axhline(probability, ls='--', color='red')\n",
    "#plot vertical line\n",
    "ax.axvline(min_votes, ls='--', color='red')\n",
    "#show the plot\n",
    "plt.show()"
   ]
  },
  {
   "cell_type": "code",
   "execution_count": null,
   "metadata": {},
   "outputs": [],
   "source": []
  }
 ],
 "metadata": {
  "kernelspec": {
   "display_name": "venvML",
   "language": "python",
   "name": "python3"
  },
  "language_info": {
   "codemirror_mode": {
    "name": "ipython",
    "version": 3
   },
   "file_extension": ".py",
   "mimetype": "text/x-python",
   "name": "python",
   "nbconvert_exporter": "python",
   "pygments_lexer": "ipython3",
   "version": "3.12.7"
  }
 },
 "nbformat": 4,
 "nbformat_minor": 2
}
