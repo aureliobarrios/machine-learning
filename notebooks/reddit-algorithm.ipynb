{
 "cells": [
  {
   "cell_type": "markdown",
   "metadata": {},
   "source": [
    "## Comment Algorithm Explained\n",
    "\n",
    "Notebook working through an example of how Reddit sorts their comments. \n",
    "\n",
    "### Confidence Sort Using Wilson's Score Interval - For Comment Ranking\n",
    "\n",
    "**Goal:** Rank the best comments highest regardless of their submission time (time was originally used in the main Reddit page algorithm which is different than the comment sorting found here) \n",
    "\n",
    "The confidence sort treats the vote count as a statistical sampling of a hypothetical full vote by everyone. You can think about this way: \n",
    "- \"Given the ratings that I currently have, there is a 80% chance (based on your chosen confidence score) that the 'real' fraction of positive ratings is **at least** what?\n",
    "\n",
    "The algorithm then uses the **lower bound** of the Wilson score to find this fraction, using the formula below. \n",
    "\n",
    "![Wilson Formula](images/wilson-formula.png)\n",
    "\n",
    "Essentially the confidence sort is giving the comment a provisional ranking that it is 80% (based on your confidence score) sure that it will get to. If a comment has 1 upvote and zero downvotes, although it has a 100% upvote rate since there is not much data the algorithm will keep it near the bottom. But if it has 10 upvotes and 1 downvote then the system will have enough confidence to place it above something with 40 upvotes and 20 downvotes - with the logic being that by the time this comment has gotten 40 upvotes it will have less than 20 downvotes. The algorithm also has the capability to offset when it is wrong (20% of the time according to our confidence score) since it will push the comment with less data to the top allowing for the chance to collect more data. "
   ]
  },
  {
   "cell_type": "markdown",
   "metadata": {},
   "source": []
  }
 ],
 "metadata": {
  "language_info": {
   "name": "python"
  }
 },
 "nbformat": 4,
 "nbformat_minor": 2
}
