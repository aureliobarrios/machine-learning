{
 "cells": [
  {
   "cell_type": "code",
   "execution_count": null,
   "metadata": {},
   "outputs": [],
   "source": [
    "#the acct_id to test\n",
    "test_acct_id = 18537\n",
    "#get a 2022 specific member to test output\n",
    "season_member_df = tickets_df[(tickets_df[\"acct_id\"] == test_acct_id) & (tickets_df[\"plan_event_name\"].str[:4] == \"22FS\") & (tickets_df[\"ticket_status\"] == \"A\")]"
   ]
  },
  {
   "cell_type": "code",
   "execution_count": null,
   "metadata": {},
   "outputs": [],
   "source": [
    "#get the unique sections of selected account id\n",
    "print(f\"Length: {len(season_member_df[\"section_name\"].unique())}\")\n",
    "season_member_df[\"section_name\"].unique()"
   ]
  }
 ],
 "metadata": {
  "kernelspec": {
   "display_name": "venvML",
   "language": "python",
   "name": "python3"
  },
  "language_info": {
   "name": "python",
   "version": "3.12.7"
  }
 },
 "nbformat": 4,
 "nbformat_minor": 2
}
