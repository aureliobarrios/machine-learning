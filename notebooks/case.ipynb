{
 "cells": [
  {
   "cell_type": "code",
   "execution_count": null,
   "metadata": {},
   "outputs": [],
   "source": [
    "#the acct_id to test\n",
    "test_acct_id = 18537\n",
    "#get a 2022 specific member to test output\n",
    "season_member_df = tickets_df[(tickets_df[\"acct_id\"] == test_acct_id) & (tickets_df[\"plan_event_name\"].str[:4] == \"22FS\") & (tickets_df[\"ticket_status\"] == \"A\")]"
   ]
  },
  {
   "cell_type": "code",
   "execution_count": null,
   "metadata": {},
   "outputs": [],
   "source": [
    "#get the unique sections of selected account id\n",
    "print(f\"Length: {len(season_member_df[\"section_name\"].unique())}\")\n",
    "season_member_df[\"section_name\"].unique()"
   ]
  },
  {
   "cell_type": "code",
   "execution_count": null,
   "metadata": {},
   "outputs": [],
   "source": [
    "#get rows where people who purchased in 2021 did not purchase in 2022\n",
    "one_not_two = merch_21_df[~merch_21_df[\"acct_id\"].isin(merch_22_df[\"acct_id\"].unique())]"
   ]
  }
 ],
 "metadata": {
  "kernelspec": {
   "display_name": "venvML",
   "language": "python",
   "name": "python3"
  },
  "language_info": {
   "name": "python",
   "version": "3.12.7"
  }
 },
 "nbformat": 4,
 "nbformat_minor": 2
}
